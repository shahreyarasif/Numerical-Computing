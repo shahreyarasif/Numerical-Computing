{
 "cells": [
  {
   "cell_type": "markdown",
   "metadata": {},
   "source": [
    "# Gauss Elimination"
   ]
  },
  {
   "cell_type": "code",
   "execution_count": 1,
   "metadata": {},
   "outputs": [
    {
     "name": "stdout",
     "output_type": "stream",
     "text": [
      "[[ 25.    5.    1.  106.8]\n",
      " [ 64.    8.    1.  177.2]\n",
      " [144.   12.    1.  279.2]]\n",
      "x1 is : 0.29048\n",
      "x2 is : 19.69048\n",
      "x3 is : 1.08571\n"
     ]
    }
   ],
   "source": [
    "import numpy as np\n",
    "c = np.array([[25,5,1,106.8],[64,8,1,177.2],[144,12,1,279.2]])\n",
    "x = np.ones(3)\n",
    "n = len(c)\n",
    "print(c)\n",
    "for i in range(0,n):\n",
    "    for j in range((i+1),n):\n",
    "        c[j] = c[j]-(c[i]*(c[j][i])/(c[i][i]))\n",
    "        \n",
    "\n",
    "for i in range(n-1,-1,-1):\n",
    "    y = 0\n",
    "    for j in range(n-1,-1,-1):\n",
    "        if i != j:\n",
    "            if i < j:\n",
    "                y = y + ((c[i][j]) * x[j])\n",
    "            else:\n",
    "                y = y + c[i][j]\n",
    "    y = c[i][3] - y\n",
    "    x[i] = y / c[i][i]\n",
    "\n",
    "    \n",
    "for i in range(0,int(len(x))):\n",
    "    print(f\"x{i+1} is :\", round(x[i],5))"
   ]
  },
  {
   "cell_type": "markdown",
   "metadata": {},
   "source": [
    "# Jacobi"
   ]
  },
  {
   "cell_type": "code",
   "execution_count": 4,
   "metadata": {},
   "outputs": [
    {
     "data": {
      "text/html": [
       "<div>\n",
       "<style scoped>\n",
       "    .dataframe tbody tr th:only-of-type {\n",
       "        vertical-align: middle;\n",
       "    }\n",
       "\n",
       "    .dataframe tbody tr th {\n",
       "        vertical-align: top;\n",
       "    }\n",
       "\n",
       "    .dataframe thead th {\n",
       "        text-align: right;\n",
       "    }\n",
       "</style>\n",
       "<table border=\"1\" class=\"dataframe\">\n",
       "  <thead>\n",
       "    <tr style=\"text-align: right;\">\n",
       "      <th></th>\n",
       "      <th>x1</th>\n",
       "      <th>x2</th>\n",
       "      <th>x3</th>\n",
       "    </tr>\n",
       "  </thead>\n",
       "  <tbody>\n",
       "    <tr>\n",
       "      <th>1</th>\n",
       "      <td>5.6250</td>\n",
       "      <td>6.4545</td>\n",
       "      <td>2.9167</td>\n",
       "    </tr>\n",
       "    <tr>\n",
       "      <th>2</th>\n",
       "      <td>7.3163</td>\n",
       "      <td>4.6742</td>\n",
       "      <td>-1.5095</td>\n",
       "    </tr>\n",
       "    <tr>\n",
       "      <th>3</th>\n",
       "      <td>7.7552</td>\n",
       "      <td>3.6569</td>\n",
       "      <td>-1.9100</td>\n",
       "    </tr>\n",
       "    <tr>\n",
       "      <th>4</th>\n",
       "      <td>7.4738</td>\n",
       "      <td>3.4608</td>\n",
       "      <td>-1.8752</td>\n",
       "    </tr>\n",
       "    <tr>\n",
       "      <th>5</th>\n",
       "      <td>7.3916</td>\n",
       "      <td>3.5663</td>\n",
       "      <td>-1.6855</td>\n",
       "    </tr>\n",
       "    <tr>\n",
       "      <th>6</th>\n",
       "      <td>7.3837</td>\n",
       "      <td>3.6135</td>\n",
       "      <td>-1.6707</td>\n",
       "    </tr>\n",
       "    <tr>\n",
       "      <th>7</th>\n",
       "      <td>7.3977</td>\n",
       "      <td>3.6177</td>\n",
       "      <td>-1.6786</td>\n",
       "    </tr>\n",
       "    <tr>\n",
       "      <th>8</th>\n",
       "      <td>7.4013</td>\n",
       "      <td>3.6119</td>\n",
       "      <td>-1.6866</td>\n",
       "    </tr>\n",
       "    <tr>\n",
       "      <th>9</th>\n",
       "      <td>7.4011</td>\n",
       "      <td>3.6098</td>\n",
       "      <td>-1.6869</td>\n",
       "    </tr>\n",
       "    <tr>\n",
       "      <th>10</th>\n",
       "      <td>7.4004</td>\n",
       "      <td>3.6099</td>\n",
       "      <td>-1.6863</td>\n",
       "    </tr>\n",
       "    <tr>\n",
       "      <th>11</th>\n",
       "      <td>7.4003</td>\n",
       "      <td>3.6102</td>\n",
       "      <td>-1.6860</td>\n",
       "    </tr>\n",
       "    <tr>\n",
       "      <th>12</th>\n",
       "      <td>7.4003</td>\n",
       "      <td>3.6103</td>\n",
       "      <td>-1.6860</td>\n",
       "    </tr>\n",
       "    <tr>\n",
       "      <th>13</th>\n",
       "      <td>7.4004</td>\n",
       "      <td>3.6102</td>\n",
       "      <td>-1.6861</td>\n",
       "    </tr>\n",
       "    <tr>\n",
       "      <th>14</th>\n",
       "      <td>7.4004</td>\n",
       "      <td>3.6102</td>\n",
       "      <td>-1.6861</td>\n",
       "    </tr>\n",
       "    <tr>\n",
       "      <th>15</th>\n",
       "      <td>7.4004</td>\n",
       "      <td>3.6102</td>\n",
       "      <td>-1.6861</td>\n",
       "    </tr>\n",
       "  </tbody>\n",
       "</table>\n",
       "</div>"
      ],
      "text/plain": [
       "        x1      x2      x3\n",
       "1   5.6250  6.4545  2.9167\n",
       "2   7.3163  4.6742 -1.5095\n",
       "3   7.7552  3.6569 -1.9100\n",
       "4   7.4738  3.4608 -1.8752\n",
       "5   7.3916  3.5663 -1.6855\n",
       "6   7.3837  3.6135 -1.6707\n",
       "7   7.3977  3.6177 -1.6786\n",
       "8   7.4013  3.6119 -1.6866\n",
       "9   7.4011  3.6098 -1.6869\n",
       "10  7.4004  3.6099 -1.6863\n",
       "11  7.4003  3.6102 -1.6860\n",
       "12  7.4003  3.6103 -1.6860\n",
       "13  7.4004  3.6102 -1.6861\n",
       "14  7.4004  3.6102 -1.6861\n",
       "15  7.4004  3.6102 -1.6861"
      ]
     },
     "execution_count": 4,
     "metadata": {},
     "output_type": "execute_result"
    }
   ],
   "source": [
    "import numpy as np\n",
    "import pandas as pd\n",
    "\n",
    "df = pd.DataFrame(columns=['x1','x2','x3'])\n",
    "c = np.array([[8,-3,2,45],[4,11,-1,71],[6,3,12,35]])\n",
    "x = np.ones(3)\n",
    "\n",
    "x = np.zeros(len(c))\n",
    "xcop = np.zeros(len(c))\n",
    "for k in range(0,15):\n",
    "    for i in range(0,len(c)):\n",
    "        y = 0\n",
    "        for j in range(0,len(c)):\n",
    "            if i != j:\n",
    "                y = y + (c[i][j] * x[j])\n",
    "        y = c[i][len(c)] - y\n",
    "        xcop[i] = y / c[i][i]\n",
    "    for i in range(0,len(x)):\n",
    "        x[i] = xcop[i]\n",
    "    df.loc[k+1] = [x[0],x[1],x[2]]\n",
    "        \n",
    "round(df,4)"
   ]
  },
  {
   "cell_type": "markdown",
   "metadata": {},
   "source": [
    "# Jorden"
   ]
  },
  {
   "cell_type": "code",
   "execution_count": 3,
   "metadata": {},
   "outputs": [
    {
     "name": "stdout",
     "output_type": "stream",
     "text": [
      "x1 is : 0.2904761904761916\n",
      "x2 is : 19.690476190476172\n",
      "x3 is : 1.0857142857143551\n"
     ]
    }
   ],
   "source": [
    "\n",
    "c = np.array([[25,5,1,106.8],[64,8,1,177.2],[144,12,1,279.2]])\n",
    "x = np.ones(3)\n",
    "n = len(c)\n",
    "\n",
    "for i in range(0,n):\n",
    "    c[i] = c[i] / c[i][i]\n",
    "    for j in range(0,n):\n",
    "        if i != j:\n",
    "            c[j] = c[j] - c[j][i] * c[i]\n",
    "            \n",
    "for i in range(0,n):\n",
    "    print(f\"x{i+1} is :\",c[i][3])"
   ]
  },
  {
   "cell_type": "markdown",
   "metadata": {},
   "source": [
    "# Seidel"
   ]
  },
  {
   "cell_type": "code",
   "execution_count": 11,
   "metadata": {},
   "outputs": [
    {
     "name": "stdout",
     "output_type": "stream",
     "text": [
      "Resut:x= 7.384, y=3.613, z=-1.671 Number Of Iterations: 6\n"
     ]
    }
   ],
   "source": [
    "\n",
    "A = [[8,-3,2],[4,11,-1],[6,3,12]]\n",
    "\n",
    "B = [45,71,35]\n",
    "\n",
    "\n",
    "\n",
    "X = [0, 0, 0]\n",
    "S = [0, 0, 0]\n",
    "k = 0\n",
    "\n",
    "while k != 6:\n",
    "    S[0] = (B[0] - (A[0][1] * X[1]) - (A[0][2] * X[2])) / A[0][0]\n",
    "    S[1] = (B[1] - (A[1][0] * X[0]) - (A[1][2] * X[2])) / A[1][1]\n",
    "    S[2] = (B[2] - (A[2][0] * X[0]) - (A[2][1] * X[1])) / A[2][2]\n",
    "    X[0] = S[0]\n",
    "    X[1] = S[1]\n",
    "    X[2] = S[2]\n",
    "    k = k + 1\n",
    "    \n",
    "    \n",
    "print('''Resut:x= {0:.3f}, y={1:.3f}, z={2:.3f} Number Of Iterations: {3}'''.format(float(S[0]), float(S[1]), float(S[2]), k))"
   ]
  }
 ],
 "metadata": {
  "kernelspec": {
   "display_name": "Python 3",
   "language": "python",
   "name": "python3"
  },
  "language_info": {
   "codemirror_mode": {
    "name": "ipython",
    "version": 3
   },
   "file_extension": ".py",
   "mimetype": "text/x-python",
   "name": "python",
   "nbconvert_exporter": "python",
   "pygments_lexer": "ipython3",
   "version": "3.7.6"
  }
 },
 "nbformat": 4,
 "nbformat_minor": 4
}

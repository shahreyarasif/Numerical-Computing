{
 "cells": [
  {
   "cell_type": "markdown",
   "metadata": {},
   "source": [
    "# <center> NC ASSIGNMENT # 01 </center>"
   ]
  },
  {
   "cell_type": "markdown",
   "metadata": {},
   "source": [
    "#### Name : Shahreyar Asif <br> Student Id : 10761"
   ]
  },
  {
   "cell_type": "markdown",
   "metadata": {},
   "source": [
    "# Question\n",
    "Write the code of following root finding methods. Display result of all iterations in Pandas DataFrame\n",
    "and plot graph to represent value of root and function for assigned interval.\n",
    "1. Bisection Method\n",
    "2. Regula Falsi\n",
    "3. Secant\n",
    "4. Newton Raphson\n",
    "5. Muller\n",
    "Plot a bar graph that will compare no. of iterations for all above methods."
   ]
  },
  {
   "cell_type": "markdown",
   "metadata": {},
   "source": [
    "# Important Libraries "
   ]
  },
  {
   "cell_type": "code",
   "execution_count": 3,
   "metadata": {},
   "outputs": [],
   "source": [
    "import numpy as np\n",
    "import pandas as pd\n",
    "import math\n",
    "import matplotlib.pyplot as plt\n",
    "from scipy.misc import derivative"
   ]
  },
  {
   "cell_type": "markdown",
   "metadata": {},
   "source": [
    "# Function"
   ]
  },
  {
   "cell_type": "code",
   "execution_count": 1,
   "metadata": {},
   "outputs": [],
   "source": [
    "def f(x):\n",
    "    \n",
    "        return 4566 - 13698*x + 10654*(x*x) - 2283*(x*x*x)"
   ]
  },
  {
   "cell_type": "markdown",
   "metadata": {},
   "source": [
    "# Graph Of Function"
   ]
  },
  {
   "cell_type": "code",
   "execution_count": 13,
   "metadata": {},
   "outputs": [
    {
     "data": {
      "image/png": "[encoded data removed]",
      "text/plain": [
       "<Figure size 432x288 with 1 Axes>"
      ]
     },
     "metadata": {
      "needs_background": "light"
     },
     "output_type": "display_data"
    }
   ],
   "source": [
    "x = np.linspace(-3,3,100)\n",
    "fig = plt.figure()\n",
    "plt.plot(x,f(x), 'b')\n",
    "plt.grid()\n",
    "\n",
    "\n",
    "plt.show()"
   ]
  },
  {
   "cell_type": "markdown",
   "metadata": {},
   "source": [
    "# Bisection Method"
   ]
  },
  {
   "cell_type": "code",
   "execution_count": 14,
   "metadata": {},
   "outputs": [],
   "source": [
    "alst=list()\n",
    "blst=list()\n",
    "midlst=list()\n",
    "ilst=list()\n",
    "def Bisection(a,b):\n",
    "    i=0\n",
    "    while(np.abs(a-b))>0.001:\n",
    "        mid = (a+b)/2\n",
    "        \n",
    "        \n",
    "        if(f(a)*f(mid))<0:\n",
    "            b=mid\n",
    "            \n",
    "        else:\n",
    "            a=mid\n",
    "            \n",
    "        i+=1\n",
    "        ilst.append(i)\n",
    "        blst.append(b)\n",
    "        alst.append(a)\n",
    "        midlst.append(mid)\n",
    "\n",
    "       \n",
    "    return mid"
   ]
  },
  {
   "cell_type": "code",
   "execution_count": 15,
   "metadata": {},
   "outputs": [
    {
     "data": {
      "text/html": [
       "<div>\n",
       "<style scoped>\n",
       "    .dataframe tbody tr th:only-of-type {\n",
       "        vertical-align: middle;\n",
       "    }\n",
       "\n",
       "    .dataframe tbody tr th {\n",
       "        vertical-align: top;\n",
       "    }\n",
       "\n",
       "    .dataframe thead th {\n",
       "        text-align: right;\n",
       "    }\n",
       "</style>\n",
       "<table border=\"1\" class=\"dataframe\">\n",
       "  <thead>\n",
       "    <tr style=\"text-align: right;\">\n",
       "      <th></th>\n",
       "      <th>0</th>\n",
       "      <th>1</th>\n",
       "      <th>2</th>\n",
       "      <th>3</th>\n",
       "      <th>4</th>\n",
       "      <th>5</th>\n",
       "      <th>6</th>\n",
       "      <th>7</th>\n",
       "      <th>8</th>\n",
       "      <th>9</th>\n",
       "      <th>10</th>\n",
       "      <th>11</th>\n",
       "    </tr>\n",
       "  </thead>\n",
       "  <tbody>\n",
       "    <tr>\n",
       "      <th>ilst</th>\n",
       "      <td>1.0</td>\n",
       "      <td>2.0</td>\n",
       "      <td>3.0</td>\n",
       "      <td>4.00</td>\n",
       "      <td>5.000</td>\n",
       "      <td>6.0000</td>\n",
       "      <td>7.00000</td>\n",
       "      <td>8.000000</td>\n",
       "      <td>9.000000</td>\n",
       "      <td>10.000000</td>\n",
       "      <td>11.000000</td>\n",
       "      <td>12.000000</td>\n",
       "    </tr>\n",
       "    <tr>\n",
       "      <th>A</th>\n",
       "      <td>-2.0</td>\n",
       "      <td>-2.0</td>\n",
       "      <td>-1.5</td>\n",
       "      <td>-1.25</td>\n",
       "      <td>-1.250</td>\n",
       "      <td>-1.2500</td>\n",
       "      <td>-1.21875</td>\n",
       "      <td>-1.218750</td>\n",
       "      <td>-1.210938</td>\n",
       "      <td>-1.210938</td>\n",
       "      <td>-1.208984</td>\n",
       "      <td>-1.208008</td>\n",
       "    </tr>\n",
       "    <tr>\n",
       "      <th>B</th>\n",
       "      <td>0.0</td>\n",
       "      <td>-1.0</td>\n",
       "      <td>-1.0</td>\n",
       "      <td>-1.00</td>\n",
       "      <td>-1.125</td>\n",
       "      <td>-1.1875</td>\n",
       "      <td>-1.18750</td>\n",
       "      <td>-1.203125</td>\n",
       "      <td>-1.203125</td>\n",
       "      <td>-1.207031</td>\n",
       "      <td>-1.207031</td>\n",
       "      <td>-1.207031</td>\n",
       "    </tr>\n",
       "    <tr>\n",
       "      <th>Mids</th>\n",
       "      <td>0.0</td>\n",
       "      <td>-1.0</td>\n",
       "      <td>-1.5</td>\n",
       "      <td>-1.25</td>\n",
       "      <td>-1.125</td>\n",
       "      <td>-1.1875</td>\n",
       "      <td>-1.21875</td>\n",
       "      <td>-1.203125</td>\n",
       "      <td>-1.210938</td>\n",
       "      <td>-1.207031</td>\n",
       "      <td>-1.208984</td>\n",
       "      <td>-1.208008</td>\n",
       "    </tr>\n",
       "  </tbody>\n",
       "</table>\n",
       "</div>"
      ],
      "text/plain": [
       "        0    1    2     3      4       5        6         7         8  \\\n",
       "ilst  1.0  2.0  3.0  4.00  5.000  6.0000  7.00000  8.000000  9.000000   \n",
       "A    -2.0 -2.0 -1.5 -1.25 -1.250 -1.2500 -1.21875 -1.218750 -1.210938   \n",
       "B     0.0 -1.0 -1.0 -1.00 -1.125 -1.1875 -1.18750 -1.203125 -1.203125   \n",
       "Mids  0.0 -1.0 -1.5 -1.25 -1.125 -1.1875 -1.21875 -1.203125 -1.210938   \n",
       "\n",
       "              9         10         11  \n",
       "ilst  10.000000  11.000000  12.000000  \n",
       "A     -1.210938  -1.208984  -1.208008  \n",
       "B     -1.207031  -1.207031  -1.207031  \n",
       "Mids  -1.207031  -1.208984  -1.208008  "
      ]
     },
     "execution_count": 15,
     "metadata": {},
     "output_type": "execute_result"
    }
   ],
   "source": [
    "root=Bisection(-2,2)\n",
    "BisecIteration=len(ilst)\n",
    "\n",
    "BisectionData={\n",
    "    'ilst':ilst,\n",
    "    'A':alst,\n",
    "    'B':blst,\n",
    "    'Mids':midlst\n",
    "    \n",
    "    \n",
    "}\n",
    "BisectionData=pd.DataFrame(BisectionData)\n",
    "BisectionData.transpose()\n",
    "\n"
   ]
  },
  {
   "cell_type": "markdown",
   "metadata": {},
   "source": [
    "# Regula Falsi"
   ]
  },
  {
   "cell_type": "code",
   "execution_count": 16,
   "metadata": {},
   "outputs": [
    {
     "data": {
      "text/html": [
       "<div>\n",
       "<style scoped>\n",
       "    .dataframe tbody tr th:only-of-type {\n",
       "        vertical-align: middle;\n",
       "    }\n",
       "\n",
       "    .dataframe tbody tr th {\n",
       "        vertical-align: top;\n",
       "    }\n",
       "\n",
       "    .dataframe thead th {\n",
       "        text-align: right;\n",
       "    }\n",
       "</style>\n",
       "<table border=\"1\" class=\"dataframe\">\n",
       "  <thead>\n",
       "    <tr style=\"text-align: right;\">\n",
       "      <th></th>\n",
       "      <th>0</th>\n",
       "      <th>1</th>\n",
       "      <th>2</th>\n",
       "      <th>3</th>\n",
       "      <th>4</th>\n",
       "      <th>5</th>\n",
       "      <th>6</th>\n",
       "      <th>7</th>\n",
       "      <th>8</th>\n",
       "      <th>9</th>\n",
       "      <th>10</th>\n",
       "    </tr>\n",
       "  </thead>\n",
       "  <tbody>\n",
       "    <tr>\n",
       "      <th>No Of Iterations</th>\n",
       "      <td>1.00000</td>\n",
       "      <td>2.000000</td>\n",
       "      <td>3.000000</td>\n",
       "      <td>4.000000</td>\n",
       "      <td>5.000000</td>\n",
       "      <td>6.000000</td>\n",
       "      <td>7.000000</td>\n",
       "      <td>8.000000</td>\n",
       "      <td>9.000000</td>\n",
       "      <td>10.000000</td>\n",
       "      <td>11.000000</td>\n",
       "    </tr>\n",
       "    <tr>\n",
       "      <th>A lst</th>\n",
       "      <td>-2.00000</td>\n",
       "      <td>-2.000000</td>\n",
       "      <td>-2.000000</td>\n",
       "      <td>-2.000000</td>\n",
       "      <td>-2.000000</td>\n",
       "      <td>-2.000000</td>\n",
       "      <td>-2.000000</td>\n",
       "      <td>-2.000000</td>\n",
       "      <td>-2.000000</td>\n",
       "      <td>-2.000000</td>\n",
       "      <td>-2.000000</td>\n",
       "    </tr>\n",
       "    <tr>\n",
       "      <th>B lst</th>\n",
       "      <td>-0.44025</td>\n",
       "      <td>-0.770476</td>\n",
       "      <td>-0.982979</td>\n",
       "      <td>-1.099998</td>\n",
       "      <td>-1.158029</td>\n",
       "      <td>-1.185199</td>\n",
       "      <td>-1.197566</td>\n",
       "      <td>-1.203121</td>\n",
       "      <td>-1.205602</td>\n",
       "      <td>-1.206706</td>\n",
       "      <td>-1.207198</td>\n",
       "    </tr>\n",
       "    <tr>\n",
       "      <th>Root lst</th>\n",
       "      <td>-0.44025</td>\n",
       "      <td>-0.770476</td>\n",
       "      <td>-0.982979</td>\n",
       "      <td>-1.099998</td>\n",
       "      <td>-1.158029</td>\n",
       "      <td>-1.185199</td>\n",
       "      <td>-1.197566</td>\n",
       "      <td>-1.203121</td>\n",
       "      <td>-1.205602</td>\n",
       "      <td>-1.206706</td>\n",
       "      <td>-1.207198</td>\n",
       "    </tr>\n",
       "  </tbody>\n",
       "</table>\n",
       "</div>"
      ],
      "text/plain": [
       "                        0         1         2         3         4         5  \\\n",
       "No Of Iterations  1.00000  2.000000  3.000000  4.000000  5.000000  6.000000   \n",
       "A lst            -2.00000 -2.000000 -2.000000 -2.000000 -2.000000 -2.000000   \n",
       "B lst            -0.44025 -0.770476 -0.982979 -1.099998 -1.158029 -1.185199   \n",
       "Root lst         -0.44025 -0.770476 -0.982979 -1.099998 -1.158029 -1.185199   \n",
       "\n",
       "                         6         7         8          9         10  \n",
       "No Of Iterations  7.000000  8.000000  9.000000  10.000000  11.000000  \n",
       "A lst            -2.000000 -2.000000 -2.000000  -2.000000  -2.000000  \n",
       "B lst            -1.197566 -1.203121 -1.205602  -1.206706  -1.207198  \n",
       "Root lst         -1.197566 -1.203121 -1.205602  -1.206706  -1.207198  "
      ]
     },
     "execution_count": 16,
     "metadata": {},
     "output_type": "execute_result"
    }
   ],
   "source": [
    " \n",
    "alst=list()\n",
    "blst=list()\n",
    "rootlst=list()\n",
    "ilst=list()\n",
    "\n",
    "def RegularFalse(a,b):\n",
    "    i=0\n",
    "    \n",
    "    while(i<200):\n",
    "        Xr=(a*f(b)-b*f(a))/(f(b)-f(a))\n",
    "        if(Xr == 0 or np.abs(f(Xr)) < 0.001):\n",
    "            break\n",
    "        if(f(a) *f(Xr))<0:\n",
    "            b=Xr\n",
    "        else:\n",
    "            a=Xr\n",
    "        i+=1\n",
    "        \n",
    "        \n",
    "        alst.append(a)\n",
    "        blst.append(b) \n",
    "        rootlst.append(Xr) \n",
    "        ilst.append(i)\n",
    "\n",
    "   \n",
    "\n",
    "    return i,Xr\n",
    "RegularFalse(-2,2)\n",
    "Rftottal=len(ilst)\n",
    "\n",
    "rfData={\n",
    "    'No Of Iterations':ilst,\n",
    "    'A lst':alst,\n",
    "    'B lst':blst,\n",
    "    'Root lst':rootlst\n",
    "    \n",
    "}\n",
    "RegularFalsi=pd.DataFrame(rfData)\n",
    "RegularFalsi.transpose()"
   ]
  },
  {
   "cell_type": "markdown",
   "metadata": {},
   "source": [
    "# Secant"
   ]
  },
  {
   "cell_type": "code",
   "execution_count": 5,
   "metadata": {},
   "outputs": [
    {
     "data": {
      "text/html": [
       "<div>\n",
       "<style scoped>\n",
       "    .dataframe tbody tr th:only-of-type {\n",
       "        vertical-align: middle;\n",
       "    }\n",
       "\n",
       "    .dataframe tbody tr th {\n",
       "        vertical-align: top;\n",
       "    }\n",
       "\n",
       "    .dataframe thead th {\n",
       "        text-align: right;\n",
       "    }\n",
       "</style>\n",
       "<table border=\"1\" class=\"dataframe\">\n",
       "  <thead>\n",
       "    <tr style=\"text-align: right;\">\n",
       "      <th></th>\n",
       "      <th>0</th>\n",
       "      <th>1</th>\n",
       "      <th>2</th>\n",
       "    </tr>\n",
       "  </thead>\n",
       "  <tbody>\n",
       "    <tr>\n",
       "      <th>ilst</th>\n",
       "      <td>1.000000</td>\n",
       "      <td>2.0</td>\n",
       "      <td>3.000000</td>\n",
       "    </tr>\n",
       "    <tr>\n",
       "      <th>plst</th>\n",
       "      <td>1.333333</td>\n",
       "      <td>1.4</td>\n",
       "      <td>1.397683</td>\n",
       "    </tr>\n",
       "  </tbody>\n",
       "</table>\n",
       "</div>"
      ],
      "text/plain": [
       "             0    1         2\n",
       "ilst  1.000000  2.0  3.000000\n",
       "plst  1.333333  1.4  1.397683"
      ]
     },
     "execution_count": 5,
     "metadata": {},
     "output_type": "execute_result"
    }
   ],
   "source": [
    "ilst=list()\n",
    "plst=list()\n",
    "\n",
    "\n",
    "def secant(p0, p1):\n",
    "    for i in range(0,100):\n",
    "        \n",
    "        p = p1 - ((f(p1)*(p1-p0))/(f(p1) - f(p0)))\n",
    "        \n",
    "        \n",
    "        \n",
    "        \n",
    "        ilst.append(i+1)\n",
    "        plst.append(p)\n",
    "        \n",
    "        if abs(p-p1) < 0.01:\n",
    "            \n",
    "            return p\n",
    "        p0 = p1\n",
    "        p1 = p\n",
    "    return \"Them method failed after {} iterations\">format(N)        \n",
    "secantData={\n",
    "    'ilst':ilst,\n",
    "    'plst':plst\n",
    "    \n",
    "}\n",
    "secant(1,2)\n",
    "secanttottal=len(ilst)\n",
    "secant=pd.DataFrame(secantData)\n",
    "secant.transpose()"
   ]
  },
  {
   "cell_type": "markdown",
   "metadata": {},
   "source": [
    "# Newton Raphson"
   ]
  },
  {
   "cell_type": "code",
   "execution_count": 18,
   "metadata": {},
   "outputs": [
    {
     "data": {
      "text/html": [
       "<div>\n",
       "<style scoped>\n",
       "    .dataframe tbody tr th:only-of-type {\n",
       "        vertical-align: middle;\n",
       "    }\n",
       "\n",
       "    .dataframe tbody tr th {\n",
       "        vertical-align: top;\n",
       "    }\n",
       "\n",
       "    .dataframe thead th {\n",
       "        text-align: right;\n",
       "    }\n",
       "</style>\n",
       "<table border=\"1\" class=\"dataframe\">\n",
       "  <thead>\n",
       "    <tr style=\"text-align: right;\">\n",
       "      <th></th>\n",
       "      <th>0</th>\n",
       "      <th>1</th>\n",
       "      <th>2</th>\n",
       "      <th>3</th>\n",
       "      <th>4</th>\n",
       "      <th>5</th>\n",
       "      <th>6</th>\n",
       "    </tr>\n",
       "  </thead>\n",
       "  <tbody>\n",
       "    <tr>\n",
       "      <th>No Of Iterations</th>\n",
       "      <td>1.000000</td>\n",
       "      <td>2.00000</td>\n",
       "      <td>3.000000</td>\n",
       "      <td>4.000000</td>\n",
       "      <td>5.000000</td>\n",
       "      <td>6.00000</td>\n",
       "      <td>7.00000</td>\n",
       "    </tr>\n",
       "    <tr>\n",
       "      <th>Roots</th>\n",
       "      <td>-1.520077</td>\n",
       "      <td>-1.29928</td>\n",
       "      <td>-1.227986</td>\n",
       "      <td>-1.211559</td>\n",
       "      <td>-1.208336</td>\n",
       "      <td>-1.20773</td>\n",
       "      <td>-1.20773</td>\n",
       "    </tr>\n",
       "  </tbody>\n",
       "</table>\n",
       "</div>"
      ],
      "text/plain": [
       "                         0        1         2         3         4        5  \\\n",
       "No Of Iterations  1.000000  2.00000  3.000000  4.000000  5.000000  6.00000   \n",
       "Roots            -1.520077 -1.29928 -1.227986 -1.211559 -1.208336 -1.20773   \n",
       "\n",
       "                        6  \n",
       "No Of Iterations  7.00000  \n",
       "Roots            -1.20773  "
      ]
     },
     "execution_count": 18,
     "metadata": {},
     "output_type": "execute_result"
    }
   ],
   "source": [
    "x=-2\n",
    "xlst=list()\n",
    "ilst=list()\n",
    "for i in range(0,100):  \n",
    "    if(abs(f(x))>0.001):\n",
    "      \n",
    "        x = x- (f(x) / derivative(f , x))\n",
    "        xlst.append(x)\n",
    "        ilst.append(i+1)\n",
    "        \n",
    "    else:\n",
    "        xlst.append(x)\n",
    "        ilst.append(i+1)\n",
    "        break\n",
    "NewtonData={\n",
    "    'No Of Iterations':ilst,\n",
    "    'Roots':xlst\n",
    "}\n",
    "NewtonData=pd.DataFrame(NewtonData)\n",
    "\n",
    "NewtonTottal=len(ilst)\n",
    "NewtonData.transpose()"
   ]
  },
  {
   "cell_type": "markdown",
   "metadata": {},
   "source": [
    "# Muller Method"
   ]
  },
  {
   "cell_type": "code",
   "execution_count": 25,
   "metadata": {},
   "outputs": [],
   "source": [
    "plst=list()\n",
    "ilst=list()\n",
    "def MullerM(pa,pb,pc):\n",
    "    p0 = pa\n",
    "    p1 = pb\n",
    "    p2 = pc\n",
    "    f0 = f(p0)\n",
    "    f1 = f(p1)\n",
    "    f2 = f(p2)\n",
    "    i = 0\n",
    "    while i<=100:\n",
    "        c = f2\n",
    "        b = ((p0-p2)**2 *(f1-f2)-(p1-p2)**2 *(f0-f2))/((p0-p2)*(p1-p2)*(p0-p1))\n",
    "        a = ((p1-p1)*(f0-f2) - (p0-p2)*(f1-f2))/((p0-p2)*(p1-p2)*(p0-p1))\n",
    "        p3 = p2 - 2*c/(b+(b/abs(b))*np.sqrt(b**2 -4*a*c))\n",
    "        plst.append(p3)\n",
    "        ilst.append(i+1)\n",
    "        if abs(p3-p2)<0.01:\n",
    "            return p3\n",
    "        p0 = p1\n",
    "        p1 = p2\n",
    "        p2 = p3\n",
    "        f0 = f(p0)\n",
    "        f1 = f(p1)\n",
    "        f2 = f(p2)\n",
    "        i = i+1\n",
    "        \n",
    "\n",
    "MullurData={\n",
    "    'No Of Iterations':ilst,\n",
    "    'Roots':plst\n",
    "    \n",
    "}\n"
   ]
  },
  {
   "cell_type": "code",
   "execution_count": 26,
   "metadata": {},
   "outputs": [
    {
     "data": {
      "text/html": [
       "<div>\n",
       "<style scoped>\n",
       "    .dataframe tbody tr th:only-of-type {\n",
       "        vertical-align: middle;\n",
       "    }\n",
       "\n",
       "    .dataframe tbody tr th {\n",
       "        vertical-align: top;\n",
       "    }\n",
       "\n",
       "    .dataframe thead th {\n",
       "        text-align: right;\n",
       "    }\n",
       "</style>\n",
       "<table border=\"1\" class=\"dataframe\">\n",
       "  <thead>\n",
       "    <tr style=\"text-align: right;\">\n",
       "      <th></th>\n",
       "      <th>0</th>\n",
       "      <th>1</th>\n",
       "      <th>2</th>\n",
       "      <th>3</th>\n",
       "      <th>4</th>\n",
       "      <th>5</th>\n",
       "      <th>6</th>\n",
       "      <th>7</th>\n",
       "    </tr>\n",
       "  </thead>\n",
       "  <tbody>\n",
       "    <tr>\n",
       "      <th>No Of Iterations</th>\n",
       "      <td>1.000000</td>\n",
       "      <td>2.000000</td>\n",
       "      <td>3.000000</td>\n",
       "      <td>4.000000</td>\n",
       "      <td>5.000000</td>\n",
       "      <td>6.000000</td>\n",
       "      <td>7.000000</td>\n",
       "      <td>8.000000</td>\n",
       "    </tr>\n",
       "    <tr>\n",
       "      <th>Roots</th>\n",
       "      <td>0.735187</td>\n",
       "      <td>-0.264441</td>\n",
       "      <td>0.505372</td>\n",
       "      <td>-1.023458</td>\n",
       "      <td>-1.476976</td>\n",
       "      <td>-1.164584</td>\n",
       "      <td>-1.204279</td>\n",
       "      <td>-1.207626</td>\n",
       "    </tr>\n",
       "  </tbody>\n",
       "</table>\n",
       "</div>"
      ],
      "text/plain": [
       "                         0         1         2         3         4         5  \\\n",
       "No Of Iterations  1.000000  2.000000  3.000000  4.000000  5.000000  6.000000   \n",
       "Roots             0.735187 -0.264441  0.505372 -1.023458 -1.476976 -1.164584   \n",
       "\n",
       "                         6         7  \n",
       "No Of Iterations  7.000000  8.000000  \n",
       "Roots            -1.204279 -1.207626  "
      ]
     },
     "execution_count": 26,
     "metadata": {},
     "output_type": "execute_result"
    }
   ],
   "source": [
    "MullerM(-3,3,1)\n",
    "MullurData=pd.DataFrame(MullurData)\n",
    "\n",
    "MullerTottal=len(ilst)\n",
    "MullurData.transpose()"
   ]
  },
  {
   "cell_type": "markdown",
   "metadata": {},
   "source": [
    "# Bar Graph"
   ]
  },
  {
   "cell_type": "code",
   "execution_count": 27,
   "metadata": {},
   "outputs": [
    {
     "data": {
      "image/png": "[encoded data removed]",
      "text/plain": [
       "<Figure size 432x288 with 1 Axes>"
      ]
     },
     "metadata": {
      "needs_background": "light"
     },
     "output_type": "display_data"
    }
   ],
   "source": [
    "df = pd.DataFrame({'Root Finding Methods':['Bisection Method', 'Regular Falsi Method','Secant Method    ','Newton Method','Muller Method'], 'No Of Iterations':[BisecIteration, Rftottal,secanttottal,NewtonTottal,MullerTottal]})\n",
    "ax = df.plot.bar(x='Root Finding Methods', y='No Of Iterations',rot=380, align='center', color=('gray'),width=-0.75)\n",
    "ax.set_facecolor(\"black\")\n",
    "\n"
   ]
  },
  {
   "cell_type": "markdown",
   "metadata": {},
   "source": [
    "# Bar Graph Horizontally"
   ]
  },
  {
   "cell_type": "code",
   "execution_count": 28,
   "metadata": {},
   "outputs": [
    {
     "data": {
      "image/png": "[encoded data removed]",
      "text/plain": [
       "<Figure size 432x288 with 1 Axes>"
      ]
     },
     "metadata": {
      "needs_background": "light"
     },
     "output_type": "display_data"
    }
   ],
   "source": [
    "Methods = ['Bisection Method','Regular Falsi Method','Secant Method    ','Newton Method','Muller Method']\n",
    "NoOfIterations = [BisecIteration, Rftottal,secanttottal,NewtonTottal,MullerTottal]\n",
    "\n",
    "\n",
    "plt.barh(Methods, NoOfIterations, color='gray')\n",
    "plt.xlabel(\"No Of Iteration\")\n",
    "plt.ylabel(\"Methods\")\n",
    "\n",
    "plt.show()"
   ]
  },
  {
   "cell_type": "markdown",
   "metadata": {},
   "source": [
    "# <br float='left'>      Made By Shahreyar Asif"
   ]
  }
 ],
 "metadata": {
  "kernelspec": {
   "display_name": "Python 3",
   "language": "python",
   "name": "python3"
  },
  "language_info": {
   "codemirror_mode": {
    "name": "ipython",
    "version": 3
   },
   "file_extension": ".py",
   "mimetype": "text/x-python",
   "name": "python",
   "nbconvert_exporter": "python",
   "pygments_lexer": "ipython3",
   "version": "3.7.6"
  }
 },
 "nbformat": 4,
 "nbformat_minor": 4
}
